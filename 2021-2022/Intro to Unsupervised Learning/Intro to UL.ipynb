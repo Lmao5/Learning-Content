{
  "nbformat": 4,
  "nbformat_minor": 2,
  "metadata": {
    "colab": {
      "name": "Final.ipynb",
      "provenance": [],
      "collapsed_sections": []
    },
    "kernelspec": {
      "name": "python3",
      "display_name": "Python 3"
    },
    "language_info": {
      "name": "python"
    }
  },
  "cells": [
    {
      "cell_type": "code",
      "execution_count": null,
      "source": [
        "# Used for visualization of plots\r\n",
        "import matplotlib.pyplot as plt\r\n",
        "\r\n",
        "# Used for dealing with Data Structures\r\n",
        "import numpy as np\r\n",
        "\r\n",
        "# Used to visualize tables \r\n",
        "import pandas as pd\r\n",
        "\r\n",
        "# Algorithm for K Means Clustering\r\n",
        "from sklearn.cluster import KMeans\r\n",
        "\r\n",
        "# Algorithm for PCA\r\n",
        "from sklearn.decomposition import PCA"
      ],
      "outputs": [],
      "metadata": {
        "id": "nfqGtnRFORDS"
      }
    },
    {
      "cell_type": "markdown",
      "source": [
        "#KMeans#"
      ],
      "metadata": {
        "id": "1lDyX_fqRp4f"
      }
    },
    {
      "cell_type": "code",
      "execution_count": null,
      "source": [
        "df = pd.read_csv('i.csv')"
      ],
      "outputs": [],
      "metadata": {
        "id": "qzzv5E2SOYv7"
      }
    },
    {
      "cell_type": "code",
      "execution_count": null,
      "source": [
        "df.head()"
      ],
      "outputs": [
        {
          "output_type": "execute_result",
          "data": {
            "text/plain": [
              "   sepal length (cm)  sepal width (cm)  ...  petal width (cm)  Target\n",
              "0                5.1               3.5  ...               0.2     0.0\n",
              "1                4.9               3.0  ...               0.2     0.0\n",
              "2                4.7               3.2  ...               0.2     0.0\n",
              "3                4.6               3.1  ...               0.2     0.0\n",
              "4                5.0               3.6  ...               0.2     0.0\n",
              "\n",
              "[5 rows x 5 columns]"
            ],
            "text/html": [
              "<div>\n",
              "<style scoped>\n",
              "    .dataframe tbody tr th:only-of-type {\n",
              "        vertical-align: middle;\n",
              "    }\n",
              "\n",
              "    .dataframe tbody tr th {\n",
              "        vertical-align: top;\n",
              "    }\n",
              "\n",
              "    .dataframe thead th {\n",
              "        text-align: right;\n",
              "    }\n",
              "</style>\n",
              "<table border=\"1\" class=\"dataframe\">\n",
              "  <thead>\n",
              "    <tr style=\"text-align: right;\">\n",
              "      <th></th>\n",
              "      <th>sepal length (cm)</th>\n",
              "      <th>sepal width (cm)</th>\n",
              "      <th>petal length (cm)</th>\n",
              "      <th>petal width (cm)</th>\n",
              "      <th>Target</th>\n",
              "    </tr>\n",
              "  </thead>\n",
              "  <tbody>\n",
              "    <tr>\n",
              "      <th>0</th>\n",
              "      <td>5.1</td>\n",
              "      <td>3.5</td>\n",
              "      <td>1.4</td>\n",
              "      <td>0.2</td>\n",
              "      <td>0.0</td>\n",
              "    </tr>\n",
              "    <tr>\n",
              "      <th>1</th>\n",
              "      <td>4.9</td>\n",
              "      <td>3.0</td>\n",
              "      <td>1.4</td>\n",
              "      <td>0.2</td>\n",
              "      <td>0.0</td>\n",
              "    </tr>\n",
              "    <tr>\n",
              "      <th>2</th>\n",
              "      <td>4.7</td>\n",
              "      <td>3.2</td>\n",
              "      <td>1.3</td>\n",
              "      <td>0.2</td>\n",
              "      <td>0.0</td>\n",
              "    </tr>\n",
              "    <tr>\n",
              "      <th>3</th>\n",
              "      <td>4.6</td>\n",
              "      <td>3.1</td>\n",
              "      <td>1.5</td>\n",
              "      <td>0.2</td>\n",
              "      <td>0.0</td>\n",
              "    </tr>\n",
              "    <tr>\n",
              "      <th>4</th>\n",
              "      <td>5.0</td>\n",
              "      <td>3.6</td>\n",
              "      <td>1.4</td>\n",
              "      <td>0.2</td>\n",
              "      <td>0.0</td>\n",
              "    </tr>\n",
              "  </tbody>\n",
              "</table>\n",
              "</div>"
            ]
          },
          "metadata": {
            "tags": []
          },
          "execution_count": 28
        }
      ],
      "metadata": {
        "colab": {
          "base_uri": "https://localhost:8080/",
          "height": 204
        },
        "id": "4sXzFl9zOdoX",
        "outputId": "b51f9a87-a177-4c3e-9a5b-a9f655e56c83"
      }
    },
    {
      "cell_type": "code",
      "execution_count": null,
      "source": [
        "# Remove the Target column. When we cluster, we only want to use its features\r\n",
        "df.pop('Target')\r\n",
        "df.head()"
      ],
      "outputs": [
        {
          "output_type": "execute_result",
          "data": {
            "text/plain": [
              "   sepal length (cm)  sepal width (cm)  petal length (cm)  petal width (cm)\n",
              "0                5.1               3.5                1.4               0.2\n",
              "1                4.9               3.0                1.4               0.2\n",
              "2                4.7               3.2                1.3               0.2\n",
              "3                4.6               3.1                1.5               0.2\n",
              "4                5.0               3.6                1.4               0.2"
            ],
            "text/html": [
              "<div>\n",
              "<style scoped>\n",
              "    .dataframe tbody tr th:only-of-type {\n",
              "        vertical-align: middle;\n",
              "    }\n",
              "\n",
              "    .dataframe tbody tr th {\n",
              "        vertical-align: top;\n",
              "    }\n",
              "\n",
              "    .dataframe thead th {\n",
              "        text-align: right;\n",
              "    }\n",
              "</style>\n",
              "<table border=\"1\" class=\"dataframe\">\n",
              "  <thead>\n",
              "    <tr style=\"text-align: right;\">\n",
              "      <th></th>\n",
              "      <th>sepal length (cm)</th>\n",
              "      <th>sepal width (cm)</th>\n",
              "      <th>petal length (cm)</th>\n",
              "      <th>petal width (cm)</th>\n",
              "    </tr>\n",
              "  </thead>\n",
              "  <tbody>\n",
              "    <tr>\n",
              "      <th>0</th>\n",
              "      <td>5.1</td>\n",
              "      <td>3.5</td>\n",
              "      <td>1.4</td>\n",
              "      <td>0.2</td>\n",
              "    </tr>\n",
              "    <tr>\n",
              "      <th>1</th>\n",
              "      <td>4.9</td>\n",
              "      <td>3.0</td>\n",
              "      <td>1.4</td>\n",
              "      <td>0.2</td>\n",
              "    </tr>\n",
              "    <tr>\n",
              "      <th>2</th>\n",
              "      <td>4.7</td>\n",
              "      <td>3.2</td>\n",
              "      <td>1.3</td>\n",
              "      <td>0.2</td>\n",
              "    </tr>\n",
              "    <tr>\n",
              "      <th>3</th>\n",
              "      <td>4.6</td>\n",
              "      <td>3.1</td>\n",
              "      <td>1.5</td>\n",
              "      <td>0.2</td>\n",
              "    </tr>\n",
              "    <tr>\n",
              "      <th>4</th>\n",
              "      <td>5.0</td>\n",
              "      <td>3.6</td>\n",
              "      <td>1.4</td>\n",
              "      <td>0.2</td>\n",
              "    </tr>\n",
              "  </tbody>\n",
              "</table>\n",
              "</div>"
            ]
          },
          "metadata": {
            "tags": []
          },
          "execution_count": 29
        }
      ],
      "metadata": {
        "colab": {
          "base_uri": "https://localhost:8080/",
          "height": 204
        },
        "id": "LSetRLhUOeJc",
        "outputId": "8923e8ed-db33-4ba3-f9fc-b5759c1c29c8"
      }
    },
    {
      "cell_type": "code",
      "execution_count": null,
      "source": [
        "# We just want 2 Dimensions, so we can plot it on a 2d data\r\n",
        "two_dim = df.iloc[:,:2]"
      ],
      "outputs": [],
      "metadata": {
        "id": "tQnR2fhXO4nz"
      }
    },
    {
      "cell_type": "code",
      "execution_count": null,
      "source": [
        "two_dim.head()"
      ],
      "outputs": [
        {
          "output_type": "execute_result",
          "data": {
            "text/plain": [
              "   sepal length (cm)  sepal width (cm)\n",
              "0                5.1               3.5\n",
              "1                4.9               3.0\n",
              "2                4.7               3.2\n",
              "3                4.6               3.1\n",
              "4                5.0               3.6"
            ],
            "text/html": [
              "<div>\n",
              "<style scoped>\n",
              "    .dataframe tbody tr th:only-of-type {\n",
              "        vertical-align: middle;\n",
              "    }\n",
              "\n",
              "    .dataframe tbody tr th {\n",
              "        vertical-align: top;\n",
              "    }\n",
              "\n",
              "    .dataframe thead th {\n",
              "        text-align: right;\n",
              "    }\n",
              "</style>\n",
              "<table border=\"1\" class=\"dataframe\">\n",
              "  <thead>\n",
              "    <tr style=\"text-align: right;\">\n",
              "      <th></th>\n",
              "      <th>sepal length (cm)</th>\n",
              "      <th>sepal width (cm)</th>\n",
              "    </tr>\n",
              "  </thead>\n",
              "  <tbody>\n",
              "    <tr>\n",
              "      <th>0</th>\n",
              "      <td>5.1</td>\n",
              "      <td>3.5</td>\n",
              "    </tr>\n",
              "    <tr>\n",
              "      <th>1</th>\n",
              "      <td>4.9</td>\n",
              "      <td>3.0</td>\n",
              "    </tr>\n",
              "    <tr>\n",
              "      <th>2</th>\n",
              "      <td>4.7</td>\n",
              "      <td>3.2</td>\n",
              "    </tr>\n",
              "    <tr>\n",
              "      <th>3</th>\n",
              "      <td>4.6</td>\n",
              "      <td>3.1</td>\n",
              "    </tr>\n",
              "    <tr>\n",
              "      <th>4</th>\n",
              "      <td>5.0</td>\n",
              "      <td>3.6</td>\n",
              "    </tr>\n",
              "  </tbody>\n",
              "</table>\n",
              "</div>"
            ]
          },
          "metadata": {
            "tags": []
          },
          "execution_count": 31
        }
      ],
      "metadata": {
        "colab": {
          "base_uri": "https://localhost:8080/",
          "height": 204
        },
        "id": "b-_GTX_XO_7i",
        "outputId": "37cd932a-5330-40ce-c770-0ee96e437429"
      }
    },
    {
      "cell_type": "code",
      "execution_count": null,
      "source": [
        "two_dim_data = two_dim.values\n",
        "print(two_dim_data.shape)"
      ],
      "outputs": [
        {
          "output_type": "stream",
          "name": "stdout",
          "text": [
            "(150, 2)\n"
          ]
        }
      ],
      "metadata": {
        "colab": {
          "base_uri": "https://localhost:8080/"
        },
        "id": "zFQokUUKPJEE",
        "outputId": "194be45b-f6b3-45cb-c546-7aa3ab4b87ec"
      }
    },
    {
      "cell_type": "code",
      "execution_count": null,
      "source": [
        "kmeans = KMeans(n_clusters=3)\n",
        "kmeans.fit(two_dim_data)"
      ],
      "outputs": [
        {
          "output_type": "execute_result",
          "data": {
            "text/plain": [
              "KMeans(algorithm='auto', copy_x=True, init='k-means++', max_iter=300,\n",
              "       n_clusters=3, n_init=10, n_jobs=None, precompute_distances='auto',\n",
              "       random_state=None, tol=0.0001, verbose=0)"
            ]
          },
          "metadata": {
            "tags": []
          },
          "execution_count": 33
        }
      ],
      "metadata": {
        "colab": {
          "base_uri": "https://localhost:8080/"
        },
        "id": "P3WkbNsfOozE",
        "outputId": "284370f4-28c9-4923-f57b-45dc763665c3"
      }
    },
    {
      "cell_type": "code",
      "execution_count": null,
      "source": [
        "# The KMeans algorithm has learnt 3 different groupings. Each example will be assigned to one group\n",
        "kmeans.labels_"
      ],
      "outputs": [
        {
          "output_type": "execute_result",
          "data": {
            "text/plain": [
              "array([1, 1, 1, 1, 1, 1, 1, 1, 1, 1, 1, 1, 1, 1, 1, 1, 1, 1, 1, 1, 1, 1,\n",
              "       1, 1, 1, 1, 1, 1, 1, 1, 1, 1, 1, 1, 1, 1, 1, 1, 1, 1, 1, 1, 1, 1,\n",
              "       1, 1, 1, 1, 1, 1, 2, 2, 2, 0, 2, 0, 2, 0, 2, 0, 0, 0, 0, 0, 0, 2,\n",
              "       0, 0, 0, 0, 0, 0, 0, 0, 2, 2, 2, 2, 0, 0, 0, 0, 0, 0, 0, 0, 2, 0,\n",
              "       0, 0, 0, 0, 0, 0, 0, 0, 0, 0, 0, 0, 2, 0, 2, 2, 2, 2, 0, 2, 2, 2,\n",
              "       2, 2, 2, 0, 0, 2, 2, 2, 2, 0, 2, 0, 2, 0, 2, 2, 0, 0, 2, 2, 2, 2,\n",
              "       2, 0, 0, 2, 2, 2, 0, 2, 2, 2, 0, 2, 2, 2, 0, 2, 2, 0], dtype=int32)"
            ]
          },
          "metadata": {
            "tags": []
          },
          "execution_count": 34
        }
      ],
      "metadata": {
        "colab": {
          "base_uri": "https://localhost:8080/"
        },
        "id": "0LIuOQXHPA1n",
        "outputId": "b6b31a4e-0880-491a-a6b1-2e6d59f2919b"
      }
    },
    {
      "cell_type": "code",
      "execution_count": null,
      "source": [
        "# Coordinates of the 3 centroids\n",
        "kmeans.cluster_centers_"
      ],
      "outputs": [
        {
          "output_type": "execute_result",
          "data": {
            "text/plain": [
              "array([[5.77358491, 2.69245283],\n",
              "       [5.006     , 3.428     ],\n",
              "       [6.81276596, 3.07446809]])"
            ]
          },
          "metadata": {
            "tags": []
          },
          "execution_count": 35
        }
      ],
      "metadata": {
        "colab": {
          "base_uri": "https://localhost:8080/"
        },
        "id": "8A7knrcyP50u",
        "outputId": "2a497ef9-7607-4a59-efbf-aa920dde1937"
      }
    },
    {
      "cell_type": "code",
      "execution_count": null,
      "source": [
        "plt.scatter(x=two_dim_data[:,0], y=two_dim_data[:,1], c=kmeans.labels_)\n",
        "plt.scatter(x=kmeans.cluster_centers_[:,0], y=kmeans.cluster_centers_[:,1], s=70, c='red')"
      ],
      "outputs": [
        {
          "output_type": "execute_result",
          "data": {
            "text/plain": [
              "<matplotlib.collections.PathCollection at 0x7f15e9157b90>"
            ]
          },
          "metadata": {
            "tags": []
          },
          "execution_count": 36
        },
        {
          "output_type": "display_data",
          "data": {
            "text/plain": [
              "<Figure size 432x288 with 1 Axes>"
            ],
            "image/png": "[encoded data removed]"
          },
          "metadata": {
            "tags": [],
            "needs_background": "light"
          }
        }
      ],
      "metadata": {
        "colab": {
          "base_uri": "https://localhost:8080/",
          "height": 285
        },
        "id": "RfMSuEDkPWJK",
        "outputId": "d0080156-dea1-4961-d448-13377ac2b55f"
      }
    },
    {
      "cell_type": "code",
      "execution_count": null,
      "source": [
        "def cluster(n_clusters, data):\n",
        "  kmeans = KMeans(n_clusters=n_clusters)\n",
        "  kmeans.fit(data)\n",
        "  plt.scatter(x=data[:,0], y=data[:,1], c=kmeans.labels_)\n",
        "  plt.scatter(x=kmeans.cluster_centers_[:,0], y=kmeans.cluster_centers_[:,1], s=70, c='red')"
      ],
      "outputs": [],
      "metadata": {
        "id": "9ohTCzWYQSXh"
      }
    },
    {
      "cell_type": "code",
      "execution_count": null,
      "source": [
        "cluster(7, two_dim_data)"
      ],
      "outputs": [
        {
          "output_type": "display_data",
          "data": {
            "text/plain": [
              "<Figure size 432x288 with 1 Axes>"
            ],
            "image/png": "[encoded data removed]"
          },
          "metadata": {
            "tags": [],
            "needs_background": "light"
          }
        }
      ],
      "metadata": {
        "colab": {
          "base_uri": "https://localhost:8080/",
          "height": 268
        },
        "id": "_iF_N548PkIZ",
        "outputId": "cf154e27-c54d-476d-ba16-c21561e0ae21"
      }
    },
    {
      "cell_type": "code",
      "execution_count": null,
      "source": [
        "# Get the intertia of your KMeans. The smaller the number, the better\n",
        "kmeans.inertia_"
      ],
      "outputs": [
        {
          "output_type": "execute_result",
          "data": {
            "text/plain": [
              "37.05070212765958"
            ]
          },
          "metadata": {
            "tags": []
          },
          "execution_count": 39
        }
      ],
      "metadata": {
        "colab": {
          "base_uri": "https://localhost:8080/"
        },
        "id": "AXhoNIMmQZ6j",
        "outputId": "59325966-8499-4ef7-c2b0-355a34d8c689"
      }
    },
    {
      "cell_type": "code",
      "execution_count": null,
      "source": [
        "# List to append all the inertias to \n",
        "inertia_list = []\n",
        "\n",
        "# Elbow Method\n",
        "for n_cluster in range(1, 8):\n",
        "  kmeans = KMeans(n_clusters=n_cluster)\n",
        "  kmeans.fit(two_dim_data)\n",
        "  inertia_list.append(kmeans.inertia_)"
      ],
      "outputs": [],
      "metadata": {
        "id": "x5jRlc7RQt6m"
      }
    },
    {
      "cell_type": "code",
      "execution_count": null,
      "source": [
        "inertia_list"
      ],
      "outputs": [
        {
          "output_type": "execute_result",
          "data": {
            "text/plain": [
              "[130.47526666666667,\n",
              " 58.20409278906671,\n",
              " 37.05070212765958,\n",
              " 28.034982153246226,\n",
              " 20.957355867306912,\n",
              " 17.363261904761906,\n",
              " 14.809344322344323]"
            ]
          },
          "metadata": {
            "tags": []
          },
          "execution_count": 41
        }
      ],
      "metadata": {
        "colab": {
          "base_uri": "https://localhost:8080/"
        },
        "id": "Rs9Ir27URAB4",
        "outputId": "52ce791c-3e90-4013-9943-4adcd342ba26"
      }
    },
    {
      "cell_type": "code",
      "execution_count": null,
      "source": [
        "# After the 3rd cluster, the inertia drastically reduced in change\n",
        "# Of couse, this is subjective. But we don't want too many clusters as it may cause real data clusters to be separated\n",
        "plt.plot(range(1,8), inertia_list)"
      ],
      "outputs": [
        {
          "output_type": "execute_result",
          "data": {
            "text/plain": [
              "[<matplotlib.lines.Line2D at 0x7f15e9043650>]"
            ]
          },
          "metadata": {
            "tags": []
          },
          "execution_count": 42
        },
        {
          "output_type": "display_data",
          "data": {
            "text/plain": [
              "<Figure size 432x288 with 1 Axes>"
            ],
            "image/png": "[encoded data removed]"
          },
          "metadata": {
            "tags": [],
            "needs_background": "light"
          }
        }
      ],
      "metadata": {
        "colab": {
          "base_uri": "https://localhost:8080/",
          "height": 282
        },
        "id": "DVdNWZnGRA9x",
        "outputId": "1560b829-240b-4365-8774-b8bd3bf578b4"
      }
    },
    {
      "cell_type": "markdown",
      "source": [
        "# PCA#"
      ],
      "metadata": {
        "id": "WZveMB6uRr3d"
      }
    },
    {
      "cell_type": "code",
      "execution_count": null,
      "source": [
        "df = pd.read_csv('i.csv')"
      ],
      "outputs": [],
      "metadata": {
        "id": "8W_B8AwgRspu"
      }
    },
    {
      "cell_type": "code",
      "execution_count": null,
      "source": [
        "# Just now, we worked with 2D data. Now, we want to work fully with the 4D data\n",
        "df.pop('Target')\n",
        "data = df.values"
      ],
      "outputs": [],
      "metadata": {
        "id": "rvpYDFmoRtyA"
      }
    },
    {
      "cell_type": "code",
      "execution_count": null,
      "source": [
        "# Instead of (150,2) which was 2 Dimensional, we have (150,4) which is 4 dimensional\n",
        "data.shape"
      ],
      "outputs": [
        {
          "output_type": "execute_result",
          "data": {
            "text/plain": [
              "(150, 4)"
            ]
          },
          "metadata": {
            "tags": []
          },
          "execution_count": 45
        }
      ],
      "metadata": {
        "colab": {
          "base_uri": "https://localhost:8080/"
        },
        "id": "gCxd3TA7R0OG",
        "outputId": "b3fedc73-604d-4ade-cc6e-3ec251cf7347"
      }
    },
    {
      "cell_type": "code",
      "execution_count": null,
      "source": [
        "# We want to reduce our 4D data to 2D so we can visualize it on a plot\n",
        "pca = PCA(n_components=2)\n",
        "reduced_data = pca.fit_transform(data)"
      ],
      "outputs": [],
      "metadata": {
        "id": "Iv6PUr8bR0y4"
      }
    },
    {
      "cell_type": "code",
      "execution_count": null,
      "source": [
        "# You guessed it! You'll get shape (150,2) once you've reduced it to 2D\n",
        "reduced_data.shape"
      ],
      "outputs": [
        {
          "output_type": "execute_result",
          "data": {
            "text/plain": [
              "(150, 2)"
            ]
          },
          "metadata": {
            "tags": []
          },
          "execution_count": 47
        }
      ],
      "metadata": {
        "colab": {
          "base_uri": "https://localhost:8080/"
        },
        "id": "n6Ba5YXgSC3m",
        "outputId": "d00fbdec-0647-44f0-ed49-9e53622f97aa"
      }
    },
    {
      "cell_type": "code",
      "execution_count": null,
      "source": [
        "# We are now able to produce a 2D cluster, using all the original 4 Dimensions. Cool :)\n",
        "cluster(3, reduced_data)"
      ],
      "outputs": [
        {
          "output_type": "display_data",
          "data": {
            "text/plain": [
              "<Figure size 432x288 with 1 Axes>"
            ],
            "image/png": "[encoded data removed]"
          },
          "metadata": {
            "tags": [],
            "needs_background": "light"
          }
        }
      ],
      "metadata": {
        "colab": {
          "base_uri": "https://localhost:8080/",
          "height": 269
        },
        "id": "r3XRS2-YSRMz",
        "outputId": "a1c24965-1b3a-44b1-bf57-ca6c65f5ccf0"
      }
    }
  ]
}