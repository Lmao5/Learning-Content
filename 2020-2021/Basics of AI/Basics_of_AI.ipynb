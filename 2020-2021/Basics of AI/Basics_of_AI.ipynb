{
  "nbformat": 4,
  "nbformat_minor": 2,
  "metadata": {
    "colab": {
      "name": "Basics of AI.ipynb",
      "private_outputs": true,
      "provenance": [],
      "collapsed_sections": []
    },
    "kernelspec": {
      "name": "python3",
      "display_name": "Python 3.8.10 64-bit ('base': conda)"
    },
    "language_info": {
      "name": "python",
      "version": "3.8.10",
      "mimetype": "text/x-python",
      "codemirror_mode": {
        "name": "ipython",
        "version": 3
      },
      "pygments_lexer": "ipython3",
      "nbconvert_exporter": "python",
      "file_extension": ".py"
    },
    "interpreter": {
      "hash": "4b0105c984877f841b31b401163318f58b8713fd45d7fedffddf01718db82bbf"
    }
  },
  "cells": [
    {
      "cell_type": "markdown",
      "source": [
        "# Basics of AI\r\n",
        "\r\n",
        "Welcome to another event held by <a href=\"https://github.com/NYP-AI\">NYP AI</a>. In this jupyter notebook, we have set aside for codes for you to reference to should you intend to do on your own.\r\n",
        "\r\n",
        "Link to the slides can be found <a href=\"https://drive.google.com/file/d/1LINgZ0DUtosobhB_y2ebzlWW9Fnvc4T8/view?usp=sharing\">here</a>."
      ],
      "metadata": {}
    },
    {
      "cell_type": "markdown",
      "source": [
        "## Import Libraries\r\n",
        "We will be importing necessary libraries for this lesson. Documentation on the python libraries are shown below:\r\n",
        "\r\n",
        "- <a href=\"https://scikit-learn.org/stable/modules/generated/sklearn.datasets.make_regression.html\">Sklearn  make_regression</a>\r\n",
        "- <a href=\"https://scikit-learn.org/stable/modules/generated/sklearn.linear_model.LinearRegression.html\">Sklearn Linear Regression</a>\r\n",
        "- <a href=\"https://scikit-learn.org/stable/modules/generated/sklearn.metrics.mean_squared_error.html\">Sklearn mean_squared_error</a>\r\n",
        "- <a href=\"https://matplotlib.org/stable/api/_as_gen/matplotlib.pyplot.html\">Matplot pyplot</a>\r\n",
        "- <a href=\"https://numpy.org/doc/\">Numpy</a>"
      ],
      "metadata": {}
    },
    {
      "cell_type": "code",
      "execution_count": 1,
      "source": [
        "# Importing necessary libraries\r\n",
        "from sklearn.datasets import make_regression\r\n",
        "from sklearn.linear_model import LinearRegression\r\n",
        "from sklearn.metrics import mean_squared_error as mse\r\n",
        "import matplotlib.pyplot as plt\r\n",
        "import numpy as np"
      ],
      "outputs": [],
      "metadata": {
        "id": "AtYXylV9KVd-"
      }
    },
    {
      "cell_type": "code",
      "execution_count": 2,
      "source": [
        "#Create the x (features) and y (labels)\r\n",
        "x, y = make_regression(n_samples=100, n_features=1, noise=20)\r\n",
        "\r\n",
        "#Create a scatter plot using values of x and y\r\n",
        "plt.scatter(x,y)\r\n",
        "plt.show()"
      ],
      "outputs": [
        {
          "output_type": "display_data",
          "data": {
            "image/png": "[encoded data removed]",
            "text/plain": [
              "<Figure size 432x288 with 1 Axes>"
            ]
          },
          "metadata": {
            "needs_background": "light"
          }
        }
      ],
      "metadata": {
        "id": "wuUfEtNRiMJL"
      }
    },
    {
      "cell_type": "code",
      "execution_count": 3,
      "source": [
        "#Call the LinearRegression Class\r\n",
        "model = LinearRegression()\r\n",
        "\r\n",
        "#Fit the model to the x and y values\r\n",
        "#This is where training happens\r\n",
        "model.fit(x, y)\r\n",
        "\r\n",
        "#Using the model, predict the values of y given x\r\n",
        "y_pred = model.predict(x)\r\n",
        "\r\n",
        "#Plot all the real points of (x,y)\r\n",
        "plt.scatter(x,y)\r\n",
        "\r\n",
        "#Plot the line using the values (x,y_pred)\r\n",
        "plt.plot(x,y_pred)\r\n",
        "plt.show()"
      ],
      "outputs": [
        {
          "output_type": "display_data",
          "data": {
            "image/png": "[encoded data removed]",
            "text/plain": [
              "<Figure size 432x288 with 1 Axes>"
            ]
          },
          "metadata": {
            "needs_background": "light"
          }
        }
      ],
      "metadata": {
        "id": "Oa1JrOTaDr5P"
      }
    },
    {
      "cell_type": "markdown",
      "source": [
        "#3 features:#\n",
        "\n",
        "x1 (Number of bedrooms)\n",
        "\n",
        "x2 (Number of shopping centres nearby)\n",
        "\n",
        "x3 (Number of bus stops nearby)\n",
        "\n",
        "---\n",
        "\n",
        "y = Cost of house\n",
        "\n",
        "\n",
        "E.g if x1 = 2, x2 = 5, x3 = 2, y = 33\n",
        "\n",
        "\n",
        "\n",
        "#Hidden equation: #\n",
        "\n",
        "y = 3*x1 + 5*x2 + x3"
      ],
      "metadata": {
        "id": "4wwI-EAJpc38"
      }
    },
    {
      "cell_type": "code",
      "execution_count": 4,
      "source": [
        "#Get the value of y, given the values of x\r\n",
        "def add(x1,x2,x3):\r\n",
        "  return 3*x1 + 5*x2 + x3"
      ],
      "outputs": [],
      "metadata": {
        "id": "bQRUcjv5p8MI"
      }
    },
    {
      "cell_type": "code",
      "execution_count": 5,
      "source": [
        "#When x1 = 4, x2 = 7 and x3 = 6 , y = 53\r\n",
        "\r\n",
        "add(4,7,6)"
      ],
      "outputs": [
        {
          "output_type": "execute_result",
          "data": {
            "text/plain": [
              "53"
            ]
          },
          "metadata": {},
          "execution_count": 5
        }
      ],
      "metadata": {
        "id": "Jlr3MkL4qxhO"
      }
    },
    {
      "cell_type": "markdown",
      "source": [
        "x1 | x2 | x3 | y\r\n",
        "--- | --- | --- | ---\r\n",
        "2 | 5 | 2 | 33\r\n",
        "7 | 2 | 4 | 35\r\n",
        "3 | 6 | 1 | 40\r\n",
        "5 | 3 | 7 | 37\r\n",
        "\r\n",
        "\r\n",
        "\r\n"
      ],
      "metadata": {
        "id": "9v5S1u8Mr1Su"
      }
    },
    {
      "cell_type": "markdown",
      "source": [
        "![image.png](data:image/png;base64,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)"
      ],
      "metadata": {
        "id": "dsjPeKQr4f0I"
      }
    },
    {
      "cell_type": "code",
      "execution_count": 6,
      "source": [
        "#Create the training Features\r\n",
        "\r\n",
        "'''\r\n",
        "np.array([ \r\n",
        "        [e.g 1],\r\n",
        "        [e.g 2],\r\n",
        "        [e.g 3]\r\n",
        "])\r\n",
        "'''\r\n",
        "\r\n",
        "#[x1,x2,x3]\r\n",
        "\r\n",
        "x = np.array([\r\n",
        "    [2,5,2],\r\n",
        "    [7,2,4],\r\n",
        "    [3,6,1],\r\n",
        "    [5,3,7]\r\n",
        "])"
      ],
      "outputs": [],
      "metadata": {
        "id": "516x1SQrq1An"
      }
    },
    {
      "cell_type": "code",
      "execution_count": 7,
      "source": [
        "#Create the training labels\r\n",
        "\r\n",
        "y = np.array([33,35,40,37])"
      ],
      "outputs": [],
      "metadata": {
        "id": "yK6p36yStIq-"
      }
    },
    {
      "cell_type": "code",
      "execution_count": 8,
      "source": [
        "#Define the LinearRegression model and fit it (train it)\r\n",
        "\r\n",
        "model = LinearRegression()\r\n",
        "model.fit(x,y)"
      ],
      "outputs": [
        {
          "output_type": "execute_result",
          "data": {
            "text/plain": [
              "LinearRegression()"
            ]
          },
          "metadata": {},
          "execution_count": 8
        }
      ],
      "metadata": {
        "id": "J80yILF8tPUZ"
      }
    },
    {
      "cell_type": "code",
      "execution_count": 9,
      "source": [
        "test_x = np.array([5,2,3])\r\n",
        "print(test_x)"
      ],
      "outputs": [
        {
          "output_type": "stream",
          "name": "stdout",
          "text": [
            "[5 2 3]\n"
          ]
        }
      ],
      "metadata": {
        "id": "hSaaOY4ttVYc"
      }
    },
    {
      "cell_type": "code",
      "execution_count": 10,
      "source": [
        "model.predict([test_x])"
      ],
      "outputs": [
        {
          "output_type": "execute_result",
          "data": {
            "text/plain": [
              "array([28.])"
            ]
          },
          "metadata": {},
          "execution_count": 10
        }
      ],
      "metadata": {
        "id": "rNbH_T9auD9b"
      }
    },
    {
      "cell_type": "code",
      "execution_count": 11,
      "source": [
        "add(5,2,3)"
      ],
      "outputs": [
        {
          "output_type": "execute_result",
          "data": {
            "text/plain": [
              "28"
            ]
          },
          "metadata": {},
          "execution_count": 11
        }
      ],
      "metadata": {
        "id": "52NLy-7zIOMc"
      }
    },
    {
      "cell_type": "code",
      "execution_count": 12,
      "source": [
        "#2D here\r\n",
        "\r\n",
        "print(x)\r\n",
        "print(f'No. of dimensions is: {x.ndim}')\r\n",
        "print(f'Shape is: {x.shape}')"
      ],
      "outputs": [
        {
          "output_type": "stream",
          "name": "stdout",
          "text": [
            "[[2 5 2]\n",
            " [7 2 4]\n",
            " [3 6 1]\n",
            " [5 3 7]]\n",
            "No. of dimensions is: 2\n",
            "Shape is: (4, 3)\n"
          ]
        }
      ],
      "metadata": {
        "id": "l1BjnbDGMcXC"
      }
    },
    {
      "cell_type": "code",
      "execution_count": 13,
      "source": [
        "#1D here\r\n",
        "\r\n",
        "print(test_x)\r\n",
        "print(f'No. of dimensions is: {test_x.ndim}')\r\n",
        "print(f'Shape is: {test_x.shape}')"
      ],
      "outputs": [
        {
          "output_type": "stream",
          "name": "stdout",
          "text": [
            "[5 2 3]\n",
            "No. of dimensions is: 1\n",
            "Shape is: (3,)\n"
          ]
        }
      ],
      "metadata": {
        "id": "cjUTjl-rM-YG"
      }
    },
    {
      "cell_type": "markdown",
      "source": [
        "#Dimensions must be the same!#\n",
        "##(nexamples, nfeatures)##"
      ],
      "metadata": {
        "id": "sYpnJ4vi71-a"
      }
    },
    {
      "cell_type": "code",
      "execution_count": 14,
      "source": [
        "test_x = np.reshape(test_x,newshape=(1,3))\r\n",
        "print(f'No. of dimensions is: {test_x.ndim}')\r\n",
        "print(test_x)"
      ],
      "outputs": [
        {
          "output_type": "stream",
          "name": "stdout",
          "text": [
            "No. of dimensions is: 2\n",
            "[[5 2 3]]\n"
          ]
        }
      ],
      "metadata": {
        "id": "77c4LGAqNBYk"
      }
    },
    {
      "cell_type": "code",
      "execution_count": 15,
      "source": [
        "model.predict(test_x)"
      ],
      "outputs": [
        {
          "output_type": "execute_result",
          "data": {
            "text/plain": [
              "array([28.])"
            ]
          },
          "metadata": {},
          "execution_count": 15
        }
      ],
      "metadata": {
        "id": "othSwh50NQ8-"
      }
    },
    {
      "cell_type": "code",
      "execution_count": 18,
      "source": [
        "#Get the coefficients of x1, x2 and x3 and value of the bias\r\n",
        "model.coef_\r\n",
        "\r\n",
        "print(f'Our model coefficient is {model.coef_} and our intercept is {model.intercept_}.')"
      ],
      "outputs": [
        {
          "output_type": "stream",
          "name": "stdout",
          "text": [
            "Our model coefficient is [3. 5. 1.] and our intercept is 1.4210854715202004e-14.\n"
          ]
        }
      ],
      "metadata": {
        "id": "3LIeOaumEAF3"
      }
    },
    {
      "cell_type": "markdown",
      "source": [
        "#Hidden equation:#\n",
        "##y = 3x1 + 5x2 + x3##"
      ],
      "metadata": {
        "id": "gRjb3d4F9QYw"
      }
    },
    {
      "cell_type": "code",
      "execution_count": null,
      "source": [],
      "outputs": [],
      "metadata": {
        "id": "Ya_pkWxV9Qw9"
      }
    }
  ]
}